{
 "cells": [
  {
   "cell_type": "code",
   "execution_count": null,
   "id": "ec66058e-8154-4d80-b782-90494062038d",
   "metadata": {},
   "outputs": [],
   "source": [
    "# Import required libraries\n",
    "import numpy as np\n",
    "import pandas as pd\n",
    "import hvplot.pandas\n",
    "from pathlib import Path\n",
    "from sklearn.linear_model import LinearRegression"
   ]
  },
  {
   "cell_type": "code",
   "execution_count": null,
   "id": "8c937a2d-8601-48ea-b78c-741732314b03",
   "metadata": {},
   "outputs": [],
   "source": [
    "# Read the sales data\n",
    "file_path = Path(\"food-inspections.csv\")\n",
    "df_raw = pd.read_csv(file_path)\n",
    "\n",
    "# Display sample data\n",
    "df_raw.head()"
   ]
  },
  {
   "cell_type": "code",
   "execution_count": null,
   "id": "465702f0-0ea9-4ea8-a21f-ba7ea77baf0f",
   "metadata": {},
   "outputs": [],
   "source": [
    "#drop unecessary columns\n",
    "df_cleaned = df_raw.drop(columns=['City','DBA Name','Inspection ID','Address','State','Zip','Location','Historical Wards 2003-2015','Zip Codes','Community Areas','Census Tracts','Wards','Latitude','Longitude','License #'],axis=1)\n",
    "df_cleaned.head()"
   ]
  },
  {
   "cell_type": "code",
   "execution_count": null,
   "id": "941cde56-36bf-40b3-9892-3fd643c604c0",
   "metadata": {},
   "outputs": [],
   "source": [
    "#renamning columns\n",
    "df_cleaned = df_cleaned.rename(columns={ \"AKA Name\": \"Name\", \"License #\": \"License_ID\", \"Facility Type\": \"Facility_Type\", \"Inspection Date\": \"Inspection_Date\", \"Inspection Type\": \"Inspection_Type\"})"
   ]
  },
  {
   "cell_type": "code",
   "execution_count": null,
   "id": "0210649c-704e-454a-879f-be433b7c43c3",
   "metadata": {},
   "outputs": [],
   "source": [
    "#filter for resturants\n",
    "df_cleaned = df_cleaned[df_cleaned['Facility_Type'] == 'Restaurant']\n",
    "df_cleaned.head()"
   ]
  },
  {
   "cell_type": "code",
   "execution_count": 82,
   "id": "1db040ce-e049-479d-9a26-516b9511677a",
   "metadata": {},
   "outputs": [
    {
     "data": {
      "text/html": [
       "<div>\n",
       "<style scoped>\n",
       "    .dataframe tbody tr th:only-of-type {\n",
       "        vertical-align: middle;\n",
       "    }\n",
       "\n",
       "    .dataframe tbody tr th {\n",
       "        vertical-align: top;\n",
       "    }\n",
       "\n",
       "    .dataframe thead th {\n",
       "        text-align: right;\n",
       "    }\n",
       "</style>\n",
       "<table border=\"1\" class=\"dataframe\">\n",
       "  <thead>\n",
       "    <tr style=\"text-align: right;\">\n",
       "      <th></th>\n",
       "      <th>Risk</th>\n",
       "      <th>Inspection_Date</th>\n",
       "      <th>Inspection_Type</th>\n",
       "      <th>Results</th>\n",
       "      <th>Violations</th>\n",
       "    </tr>\n",
       "    <tr>\n",
       "      <th>Name</th>\n",
       "      <th></th>\n",
       "      <th></th>\n",
       "      <th></th>\n",
       "      <th></th>\n",
       "      <th></th>\n",
       "    </tr>\n",
       "  </thead>\n",
       "  <tbody>\n",
       "    <tr>\n",
       "      <th>SUBWAY</th>\n",
       "      <td>Risk 1 (High)</td>\n",
       "      <td>2019-12-03</td>\n",
       "      <td>License</td>\n",
       "      <td>Pass w/ Conditions</td>\n",
       "      <td>3. MANAGEMENT, FOOD EMPLOYEE AND CONDITIONAL E...</td>\n",
       "    </tr>\n",
       "    <tr>\n",
       "      <th>CHIPOTLE MEXICAN GRILL</th>\n",
       "      <td>Risk 1 (High)</td>\n",
       "      <td>2019-12-03</td>\n",
       "      <td>License</td>\n",
       "      <td>Fail</td>\n",
       "      <td>3. MANAGEMENT, FOOD EMPLOYEE AND CONDITIONAL E...</td>\n",
       "    </tr>\n",
       "    <tr>\n",
       "      <th>SAME SAME</th>\n",
       "      <td>Risk 1 (High)</td>\n",
       "      <td>2019-12-03</td>\n",
       "      <td>License</td>\n",
       "      <td>Pass w/ Conditions</td>\n",
       "      <td>3. MANAGEMENT, FOOD EMPLOYEE AND CONDITIONAL E...</td>\n",
       "    </tr>\n",
       "    <tr>\n",
       "      <th>RPM ON THE WATER</th>\n",
       "      <td>Risk 1 (High)</td>\n",
       "      <td>2019-12-03</td>\n",
       "      <td>License</td>\n",
       "      <td>Pass</td>\n",
       "      <td>39. CONTAMINATION PREVENTED DURING FOOD PREPAR...</td>\n",
       "    </tr>\n",
       "    <tr>\n",
       "      <th>THE HALAL GUYS</th>\n",
       "      <td>Risk 1 (High)</td>\n",
       "      <td>2019-12-03</td>\n",
       "      <td>License</td>\n",
       "      <td>Fail</td>\n",
       "      <td>3. MANAGEMENT, FOOD EMPLOYEE AND CONDITIONAL E...</td>\n",
       "    </tr>\n",
       "  </tbody>\n",
       "</table>\n",
       "</div>"
      ],
      "text/plain": [
       "                                 Risk Inspection_Date Inspection_Type  \\\n",
       "Name                                                                    \n",
       "SUBWAY                  Risk 1 (High)      2019-12-03         License   \n",
       "CHIPOTLE MEXICAN GRILL  Risk 1 (High)      2019-12-03         License   \n",
       "SAME SAME               Risk 1 (High)      2019-12-03         License   \n",
       "RPM ON THE WATER        Risk 1 (High)      2019-12-03         License   \n",
       "THE HALAL GUYS          Risk 1 (High)      2019-12-03         License   \n",
       "\n",
       "                                   Results  \\\n",
       "Name                                         \n",
       "SUBWAY                  Pass w/ Conditions   \n",
       "CHIPOTLE MEXICAN GRILL                Fail   \n",
       "SAME SAME               Pass w/ Conditions   \n",
       "RPM ON THE WATER                      Pass   \n",
       "THE HALAL GUYS                        Fail   \n",
       "\n",
       "                                                               Violations  \n",
       "Name                                                                       \n",
       "SUBWAY                  3. MANAGEMENT, FOOD EMPLOYEE AND CONDITIONAL E...  \n",
       "CHIPOTLE MEXICAN GRILL  3. MANAGEMENT, FOOD EMPLOYEE AND CONDITIONAL E...  \n",
       "SAME SAME               3. MANAGEMENT, FOOD EMPLOYEE AND CONDITIONAL E...  \n",
       "RPM ON THE WATER        39. CONTAMINATION PREVENTED DURING FOOD PREPAR...  \n",
       "THE HALAL GUYS          3. MANAGEMENT, FOOD EMPLOYEE AND CONDITIONAL E...  "
      ]
     },
     "execution_count": 82,
     "metadata": {},
     "output_type": "execute_result"
    }
   ],
   "source": [
    "#filter out for license inspections only\n",
    "df_cleaned = df_cleaned[df_cleaned['Inspection_Type'] == 'License']\n",
    "df_cleaned.head()"
   ]
  },
  {
   "cell_type": "code",
   "execution_count": null,
   "id": "5ad959fb-d244-490f-b7e1-c3c57a9b8a48",
   "metadata": {},
   "outputs": [],
   "source": [
    "#drop facility type column\n",
    "df_cleaned = df_cleaned.drop(columns=['Facility_Type'],axis=1)"
   ]
  },
  {
   "cell_type": "code",
   "execution_count": 83,
   "id": "6cf5b280-3574-4dc6-ac71-294075a57dbd",
   "metadata": {},
   "outputs": [],
   "source": [
    "#drop inspection type column\n",
    "df_cleaned = df_cleaned.drop(columns=['Inspection_Type'],axis=1)"
   ]
  },
  {
   "cell_type": "code",
   "execution_count": null,
   "id": "e4c95824-58f5-43f1-aa84-f162f5f06468",
   "metadata": {},
   "outputs": [],
   "source": [
    "#drop empty violations rows\n",
    "df_cleaned=df_cleaned.dropna()"
   ]
  },
  {
   "cell_type": "code",
   "execution_count": null,
   "id": "d5b265c7-9bc9-4f0c-9342-1b4585968620",
   "metadata": {},
   "outputs": [],
   "source": [
    "#shrink date\n",
    "df_cleaned['Inspection_Date'] = df_cleaned['Inspection_Date'].str[:10]"
   ]
  },
  {
   "cell_type": "code",
   "execution_count": null,
   "id": "f53d1452-b595-4904-b7ec-e042e2e253d8",
   "metadata": {},
   "outputs": [],
   "source": [
    "#set ID as index\n",
    "df_cleaned=df_cleaned.set_index('Name')\n",
    "df_cleaned.head()"
   ]
  },
  {
   "cell_type": "code",
   "execution_count": 84,
   "id": "ebab7e49-efac-48b6-8fa7-b0559ce4ab62",
   "metadata": {},
   "outputs": [],
   "source": [
    "df_cleaned.to_csv('cleaned_data.csv')"
   ]
  },
  {
   "cell_type": "code",
   "execution_count": null,
   "id": "399bb614-05c4-4133-a6f9-1555719aeea9",
   "metadata": {},
   "outputs": [],
   "source": []
  }
 ],
 "metadata": {
  "kernelspec": {
   "display_name": "Python 3 (ipykernel)",
   "language": "python",
   "name": "python3"
  },
  "language_info": {
   "codemirror_mode": {
    "name": "ipython",
    "version": 3
   },
   "file_extension": ".py",
   "mimetype": "text/x-python",
   "name": "python",
   "nbconvert_exporter": "python",
   "pygments_lexer": "ipython3",
   "version": "3.9.13"
  }
 },
 "nbformat": 4,
 "nbformat_minor": 5
}
