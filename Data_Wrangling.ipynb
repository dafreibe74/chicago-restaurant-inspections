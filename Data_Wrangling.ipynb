{
 "cells": [
  {
   "cell_type": "code",
   "execution_count": null,
   "id": "ec66058e-8154-4d80-b782-90494062038d",
   "metadata": {},
   "outputs": [],
   "source": [
    "# Import required libraries\n",
    "import numpy as np\n",
    "import pandas as pd\n",
    "import hvplot.pandas\n",
    "from pathlib import Path\n",
    "from sklearn.linear_model import LinearRegression"
   ]
  },
  {
   "cell_type": "code",
   "execution_count": null,
   "id": "8c937a2d-8601-48ea-b78c-741732314b03",
   "metadata": {},
   "outputs": [],
   "source": [
    "# Read the sales data\n",
    "file_path = Path(\"food-inspections.csv\")\n",
    "#data downloaded from:\n",
    "# https://www.kaggle.com/datasets/chicago/chicago-food-inspections?resource=download\n",
    "df_raw = pd.read_csv(file_path)\n",
    "\n",
    "# Display sample data\n",
    "df_raw.head()"
   ]
  },
  {
   "cell_type": "code",
   "execution_count": null,
   "id": "465702f0-0ea9-4ea8-a21f-ba7ea77baf0f",
   "metadata": {},
   "outputs": [],
   "source": [
    "#drop unecessary columns\n",
    "df_cleaned = df_raw.drop(columns=['City','DBA Name','Inspection ID','Address','State','Location','Historical Wards 2003-2015','Zip Codes','Community Areas','Census Tracts','Wards','Latitude','Longitude'],axis=1)\n",
    "df_cleaned.head()"
   ]
  },
  {
   "cell_type": "code",
   "execution_count": null,
   "id": "941cde56-36bf-40b3-9892-3fd643c604c0",
   "metadata": {},
   "outputs": [],
   "source": [
    "#renamning columns\n",
    "df_cleaned = df_cleaned.rename(columns={ \"AKA Name\": \"Name\", \"License #\": \"License_ID\", \"Facility Type\": \"Facility_Type\", \"Inspection Date\": \"Inspection_Date\", \"Inspection Type\": \"Inspection_Type\"})\n",
    "df_cleaned"
   ]
  },
  {
   "cell_type": "code",
   "execution_count": null,
   "id": "0210649c-704e-454a-879f-be433b7c43c3",
   "metadata": {},
   "outputs": [],
   "source": [
    "#filter for resturants\n",
    "df_cleaned = df_cleaned[df_cleaned['Facility_Type'] == 'Restaurant']\n",
    "df_cleaned.head()"
   ]
  },
  {
   "cell_type": "code",
   "execution_count": null,
   "id": "1db040ce-e049-479d-9a26-516b9511677a",
   "metadata": {},
   "outputs": [],
   "source": [
    "#filter out for license inspections only\n",
    "df_cleaned = df_cleaned[(df_cleaned['Inspection_Type'] == 'License') | (df_cleaned['Inspection_Type'] == 'License Re-Inspection')]\n",
    "df_cleaned.head()"
   ]
  },
  {
   "cell_type": "code",
   "execution_count": null,
   "id": "5ad959fb-d244-490f-b7e1-c3c57a9b8a48",
   "metadata": {},
   "outputs": [],
   "source": [
    "#drop facility type column\n",
    "df_cleaned = df_cleaned.drop(columns=['Facility_Type'],axis=1)"
   ]
  },
  {
   "cell_type": "code",
   "execution_count": null,
   "id": "6cf5b280-3574-4dc6-ac71-294075a57dbd",
   "metadata": {},
   "outputs": [],
   "source": [
    "#drop inspection type column\n",
    "df_cleaned = df_cleaned.drop(columns=['Inspection_Type'],axis=1)"
   ]
  },
  {
   "cell_type": "code",
   "execution_count": null,
   "id": "e4c95824-58f5-43f1-aa84-f162f5f06468",
   "metadata": {},
   "outputs": [],
   "source": [
    "#drop empty violations rows\n",
    "df_cleaned=df_cleaned.dropna()"
   ]
  },
  {
   "cell_type": "code",
   "execution_count": null,
   "id": "d5b265c7-9bc9-4f0c-9342-1b4585968620",
   "metadata": {},
   "outputs": [],
   "source": [
    "#shrink date\n",
    "df_cleaned['Inspection_Date'] = df_cleaned['Inspection_Date'].str[:4]"
   ]
  },
  {
   "cell_type": "code",
   "execution_count": null,
   "id": "f53d1452-b595-4904-b7ec-e042e2e253d8",
   "metadata": {},
   "outputs": [],
   "source": [
    "#set ID as index\n",
    "df_cleaned=df_cleaned.set_index('Name')\n",
    "df_cleaned.head()"
   ]
  },
  {
   "cell_type": "code",
   "execution_count": null,
   "id": "ebab7e49-efac-48b6-8fa7-b0559ce4ab62",
   "metadata": {},
   "outputs": [],
   "source": [
    "df_cleaned.to_csv('cleaned_data.csv')"
   ]
  },
  {
   "cell_type": "code",
   "execution_count": null,
   "id": "399bb614-05c4-4133-a6f9-1555719aeea9",
   "metadata": {},
   "outputs": [],
   "source": []
  }
 ],
 "metadata": {
  "kernelspec": {
   "display_name": "Python 3 (ipykernel)",
   "language": "python",
   "name": "python3"
  },
  "language_info": {
   "codemirror_mode": {
    "name": "ipython",
    "version": 3
   },
   "file_extension": ".py",
   "mimetype": "text/x-python",
   "name": "python",
   "nbconvert_exporter": "python",
   "pygments_lexer": "ipython3",
   "version": "3.9.13"
  }
 },
 "nbformat": 4,
 "nbformat_minor": 5
}
