{
 "cells": [
  {
   "cell_type": "code",
   "execution_count": 1,
   "id": "027f8454-f939-4553-a125-a0f9f9263330",
   "metadata": {},
   "outputs": [],
   "source": [
    "#import dependencies\n",
    "import sqlite3\n",
    "from sqlite3 import Error\n",
    "from pathlib import Path\n",
    "from sqlalchemy import create_engine, inspect\n",
    "import pandas as pd"
   ]
  },
  {
   "cell_type": "code",
   "execution_count": 2,
   "id": "72ef4a34-f9a8-4ade-847d-6b7d641882b5",
   "metadata": {},
   "outputs": [],
   "source": [
    "# creaate the database\n",
    "Path('restaurant2.sqlite').touch()\n",
    "#defining the database\n",
    "conn = sqlite3.connect('restaurant2.sqlite')\n",
    "#connect to database\n",
    "c = conn.cursor()"
   ]
  },
  {
   "cell_type": "code",
   "execution_count": null,
   "id": "fbbcdf96-c63f-4c4e-8c05-ad5cd2083e06",
   "metadata": {},
   "outputs": [],
   "source": [
    "# Create a reference to the file. \n",
    "database_path = Path(\"restaurant2.sqlite\")"
   ]
  },
  {
   "cell_type": "code",
   "execution_count": null,
   "id": "76656523-f452-4122-af2f-69d4849199e3",
   "metadata": {},
   "outputs": [],
   "source": [
    "# Create an engine that can talk to the database\n",
    "engine = create_engine(f\"sqlite:///{database_path}\")"
   ]
  },
  {
   "cell_type": "code",
   "execution_count": null,
   "id": "3f50291a-1de0-4105-8ff1-29ca96902cfe",
   "metadata": {},
   "outputs": [],
   "source": [
    "# drop table if necessary for reformatting\n",
    "c.execute('''Drop TABLE restaurants;''')\n",
    "\n",
    "\n",
    "#create database\n",
    "c.execute('''CREATE TABLE restaurants(Name text, Risk blob,Inspection_Date text, Results text,Violations blob);''')"
   ]
  }
 ],
 "metadata": {
  "kernelspec": {
   "display_name": "Python 3 (ipykernel)",
   "language": "python",
   "name": "python3"
  },
  "language_info": {
   "codemirror_mode": {
    "name": "ipython",
    "version": 3
   },
   "file_extension": ".py",
   "mimetype": "text/x-python",
   "name": "python",
   "nbconvert_exporter": "python",
   "pygments_lexer": "ipython3",
   "version": "3.9.13"
  }
 },
 "nbformat": 4,
 "nbformat_minor": 5
}
