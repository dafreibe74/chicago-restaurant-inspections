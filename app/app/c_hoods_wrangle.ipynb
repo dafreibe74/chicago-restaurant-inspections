{
 "cells": [
  {
   "cell_type": "code",
   "execution_count": 10,
   "id": "17d82db9-da89-4cd6-8680-d0b0fd6deeb1",
   "metadata": {},
   "outputs": [],
   "source": [
    "import pandas as pd"
   ]
  },
  {
   "cell_type": "code",
   "execution_count": 11,
   "id": "47a00956-7b02-4be1-a593-1b693469d055",
   "metadata": {},
   "outputs": [],
   "source": [
    "neighborhoods_data = [\n",
    "    ('Albany Park', '60625'), ('Archer Heights', '60632'), ('Armour Square', '60616'),\n",
    "    ('Ashburn', '60620'), ('Auburn Gresham', '60619'), ('Austin', '60644'), ('Avalon Park', '60619'),\n",
    "    ('Avondale', '60618'), ('Belmont Cragin', '60639'), ('Beverly', '60643'), ('Bridgeport', '60608'),\n",
    "    ('Brighton Park', '60632'), ('Burnside', '60619'), ('Calumet Heights', '60617'), ('Chatham', '60620'),\n",
    "    ('Chicago Lawn', '60629'), ('Clearing', '60638'), ('Douglas', '60653'), ('Dunning', '60634'),\n",
    "    ('East Garfield Park', '60624'), ('East Side', '60617'), ('Edgewater', '60640'), ('Edison Park', '60630'),\n",
    "    ('Englewood', '60621'), ('Forest Glen', '60646'), ('Fuller Park', '60609'), ('Gage Park', '60609'),\n",
    "    ('Garfield Ridge', '60638'), ('Grand Boulevard', '60637'), ('Greater Grand Crossing', '60629'),\n",
    "    ('Hegewisch', '60633'), ('Hermosa', '60639'), ('Humboldt Park', '60647'), ('Hyde Park', '60615'),\n",
    "    ('Irving Park', '60618'), ('Jefferson Park', '60630'), ('Kenwood', '60615'), ('Lakeview', '60657'),\n",
    "    ('Lincoln Park', '60614'), ('Lincoln Square', '60625'), ('Little Village', '60623'),\n",
    "    ('Logan Square', '60647'), ('Loop', '60601'), ('Lower West Side', '60608'), ('McKinley Park', '60632'),\n",
    "    ('Montclare', '60634'), ('Morgan Park', '60643'), ('Mount Greenwood', '60655'), ('Near North Side', '60654'),\n",
    "    ('Near South Side', '60605'), ('Near West Side', '60612'), ('New City', '60609'), ('North Center', '60618'),\n",
    "    ('North Lawndale', '60623'), ('North Park', '60625'), ('Norwood Park', '60631'), ('Oakland', '60653'),\n",
    "    ('O\\'Hare', '60656'), ('Portage Park', '60641'), ('Pullman', '60628'), ('Riverdale', '60827'),\n",
    "    ('Rogers Park', '60626'), ('Roseland', '60628'), ('South Chicago', '60617'), ('South Deering', '60633'),\n",
    "    ('South Lawndale', '60608'), ('South Shore', '60649'), ('The Loop', '60602'), ('Uptown', '60640'),\n",
    "    ('Washington Heights', '60620'), ('Washington Park', '60615'), ('West Elsdon', '60632'),\n",
    "    ('West Englewood', '60621'), ('West Garfield Park', '60624'), ('West Lawn', '60629'),\n",
    "    ('West Pullman', '60628'), ('West Ridge', '60659'), ('West Town', '60622'), ('Woodlawn', '60637')\n",
    "]"
   ]
  },
  {
   "cell_type": "code",
   "execution_count": 12,
   "id": "01b1c026-d81b-4289-97d9-ce8aed0c2340",
   "metadata": {},
   "outputs": [],
   "source": [
    "# Separate the neighborhoods and zip codes\n",
    "neighborhoods = [entry[0] for entry in neighborhoods_data]\n",
    "zip_codes = [entry[1] for entry in neighborhoods_data]"
   ]
  },
  {
   "cell_type": "code",
   "execution_count": 13,
   "id": "fdb5a904-5204-4075-b159-45d561236754",
   "metadata": {},
   "outputs": [],
   "source": [
    "neighborhoods_df = pd.DataFrame({\n",
    "    'Neighborhood': neighborhoods,\n",
    "    'Zip Code': zip_codes\n",
    "    })"
   ]
  },
  {
   "cell_type": "code",
   "execution_count": 14,
   "id": "cc9a7aa9-ab5d-4a60-9cab-2fe1d60e5169",
   "metadata": {},
   "outputs": [
    {
     "name": "stdout",
     "output_type": "stream",
     "text": [
      "      Neighborhood Zip Code\n",
      "0      Albany Park    60625\n",
      "1   Archer Heights    60632\n",
      "2    Armour Square    60616\n",
      "3          Ashburn    60620\n",
      "4   Auburn Gresham    60619\n",
      "..             ...      ...\n",
      "74       West Lawn    60629\n",
      "75    West Pullman    60628\n",
      "76      West Ridge    60659\n",
      "77       West Town    60622\n",
      "78        Woodlawn    60637\n",
      "\n",
      "[79 rows x 2 columns]\n"
     ]
    }
   ],
   "source": [
    "print(neighborhoods_df)"
   ]
  },
  {
   "cell_type": "code",
   "execution_count": 15,
   "id": "49da6556-012a-42d5-ae69-1058ef828c7d",
   "metadata": {},
   "outputs": [],
   "source": [
    "neighborhoods_df.to_csv('chicago_neighborhoods.csv', index=False)"
   ]
  },
  {
   "cell_type": "code",
   "execution_count": null,
   "id": "5f2a87c5-7642-493a-b03d-32c369b0dff1",
   "metadata": {},
   "outputs": [],
   "source": []
  }
 ],
 "metadata": {
  "kernelspec": {
   "display_name": "Python 3 (ipykernel)",
   "language": "python",
   "name": "python3"
  },
  "language_info": {
   "codemirror_mode": {
    "name": "ipython",
    "version": 3
   },
   "file_extension": ".py",
   "mimetype": "text/x-python",
   "name": "python",
   "nbconvert_exporter": "python",
   "pygments_lexer": "ipython3",
   "version": "3.9.13"
  }
 },
 "nbformat": 4,
 "nbformat_minor": 5
}
