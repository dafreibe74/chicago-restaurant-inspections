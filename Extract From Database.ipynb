{
 "cells": [
  {
   "cell_type": "code",
   "execution_count": null,
   "id": "ae4cab10-6f9d-445f-8105-fc5e23396c56",
   "metadata": {},
   "outputs": [],
   "source": [
    "#import dependencies\n",
    "import sqlite3\n",
    "from sqlite3 import Error\n",
    "from pathlib import Path\n",
    "from sqlalchemy import create_engine, inspect\n",
    "import pandas as pd"
   ]
  },
  {
   "cell_type": "code",
   "execution_count": null,
   "id": "66a85a58-4c74-4b6d-a194-53d1d79462a4",
   "metadata": {},
   "outputs": [],
   "source": [
    "#defining the database\n",
    "conn = sqlite3.connect('restaurant.sqlite')\n",
    "#connect to database\n",
    "c = conn.cursor()"
   ]
  },
  {
   "cell_type": "code",
   "execution_count": null,
   "id": "03d3b6a0-8552-4b01-ba7e-c61a262cab28",
   "metadata": {},
   "outputs": [],
   "source": [
    "#view the data\n",
    "pd.read_sql('''SELECT * FROM restaurants''',conn)"
   ]
  },
  {
   "cell_type": "code",
   "execution_count": null,
   "id": "91cfbdf3-d4bd-4252-ae71-613930ddbcbc",
   "metadata": {},
   "outputs": [],
   "source": []
  }
 ],
 "metadata": {
  "kernelspec": {
   "display_name": "Python 3 (ipykernel)",
   "language": "python",
   "name": "python3"
  },
  "language_info": {
   "codemirror_mode": {
    "name": "ipython",
    "version": 3
   },
   "file_extension": ".py",
   "mimetype": "text/x-python",
   "name": "python",
   "nbconvert_exporter": "python",
   "pygments_lexer": "ipython3",
   "version": "3.9.13"
  }
 },
 "nbformat": 4,
 "nbformat_minor": 5
}
