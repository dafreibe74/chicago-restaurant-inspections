{
 "cells": [
  {
   "cell_type": "code",
   "execution_count": 30,
   "id": "d558c921-5c6c-4b06-aed2-3ed183c9f4e2",
   "metadata": {},
   "outputs": [],
   "source": [
    "#import dependencies\n",
    "import sqlite3\n",
    "from sqlite3 import Error\n",
    "from pathlib import Path\n",
    "from sqlalchemy import create_engine, inspect\n",
    "import pandas as pd"
   ]
  },
  {
   "cell_type": "code",
   "execution_count": 31,
   "id": "8a12cf14-4f94-4152-ab44-f56dcea03738",
   "metadata": {},
   "outputs": [],
   "source": [
    "# creaate the database\n",
    "Path('restaurant4.sqlite').touch()\n",
    "#defining the database\n",
    "conn = sqlite3.connect('restaurant4.sqlite')\n",
    "#connect to database\n",
    "c = conn.cursor()"
   ]
  },
  {
   "cell_type": "code",
   "execution_count": 32,
   "id": "0a6706ad-4703-4b64-92b6-64641a529b56",
   "metadata": {},
   "outputs": [],
   "source": [
    "# Create a reference to the file. \n",
    "database_path = Path(\"restaurant4.sqlite\")"
   ]
  },
  {
   "cell_type": "code",
   "execution_count": 33,
   "id": "5a44ccc0-39ec-490a-a1f6-fd8aa93fcd85",
   "metadata": {},
   "outputs": [],
   "source": [
    "# Create an engine that can talk to the database\n",
    "engine = create_engine(f\"sqlite:///{database_path}\")"
   ]
  },
  {
   "cell_type": "code",
   "execution_count": 35,
   "id": "01155d23-3a78-4006-bebb-237358b92c1a",
   "metadata": {},
   "outputs": [
    {
     "data": {
      "text/plain": [
       "<sqlite3.Cursor at 0x2eb812d7030>"
      ]
     },
     "execution_count": 35,
     "metadata": {},
     "output_type": "execute_result"
    }
   ],
   "source": [
    "# drop table if necessary for reformatting\n",
    "c.execute('''Drop TABLE restaurants;''')\n",
    "\n",
    "\n",
    "#create database\n",
    "c.execute('''CREATE TABLE restaurants(Name text,License_ID real, Risk blob,zip real,Inspection_Date text, Results text,Violations blob);''')"
   ]
  },
  {
   "cell_type": "code",
   "execution_count": 36,
   "id": "7c26ce5a-a01b-49d4-924e-0eb096f0c125",
   "metadata": {},
   "outputs": [
    {
     "data": {
      "text/plain": [
       "[{'name': 'Name',\n",
       "  'type': TEXT(),\n",
       "  'nullable': True,\n",
       "  'default': None,\n",
       "  'autoincrement': 'auto',\n",
       "  'primary_key': 0},\n",
       " {'name': 'License_ID',\n",
       "  'type': REAL(),\n",
       "  'nullable': True,\n",
       "  'default': None,\n",
       "  'autoincrement': 'auto',\n",
       "  'primary_key': 0},\n",
       " {'name': 'Risk',\n",
       "  'type': BLOB(),\n",
       "  'nullable': True,\n",
       "  'default': None,\n",
       "  'autoincrement': 'auto',\n",
       "  'primary_key': 0},\n",
       " {'name': 'zip',\n",
       "  'type': REAL(),\n",
       "  'nullable': True,\n",
       "  'default': None,\n",
       "  'autoincrement': 'auto',\n",
       "  'primary_key': 0},\n",
       " {'name': 'Inspection_Date',\n",
       "  'type': TEXT(),\n",
       "  'nullable': True,\n",
       "  'default': None,\n",
       "  'autoincrement': 'auto',\n",
       "  'primary_key': 0},\n",
       " {'name': 'Results',\n",
       "  'type': TEXT(),\n",
       "  'nullable': True,\n",
       "  'default': None,\n",
       "  'autoincrement': 'auto',\n",
       "  'primary_key': 0},\n",
       " {'name': 'Violations',\n",
       "  'type': BLOB(),\n",
       "  'nullable': True,\n",
       "  'default': None,\n",
       "  'autoincrement': 'auto',\n",
       "  'primary_key': 0}]"
      ]
     },
     "execution_count": 36,
     "metadata": {},
     "output_type": "execute_result"
    }
   ],
   "source": [
    "#check column names for Table\n",
    "\n",
    "# Create the inspector and connect it to the engine\n",
    "inspector = inspect(engine)\n",
    "# Collect the names of tables within the database\n",
    "inspector.get_table_names()\n",
    "# Using the inspector to print the column names within the table and its types\n",
    "columns = inspector.get_columns('restaurants')\n",
    "columns"
   ]
  },
  {
   "cell_type": "code",
   "execution_count": 37,
   "id": "0c9c0ade-bbbe-4354-b26e-4236dff446bb",
   "metadata": {},
   "outputs": [
    {
     "data": {
      "text/plain": [
       "10168"
      ]
     },
     "execution_count": 37,
     "metadata": {},
     "output_type": "execute_result"
    }
   ],
   "source": [
    "# load the data into the database\n",
    "happiness_data = pd.read_csv('cleaned_data.csv')\n",
    "# write the happiness data to a sqlite table\n",
    "happiness_data.to_sql('restaurants', conn, if_exists='append', index = False)"
   ]
  },
  {
   "cell_type": "code",
   "execution_count": null,
   "id": "30c08836-d340-48d3-9f58-ea2d4bfe931c",
   "metadata": {},
   "outputs": [],
   "source": []
  }
 ],
 "metadata": {
  "kernelspec": {
   "display_name": "Python 3 (ipykernel)",
   "language": "python",
   "name": "python3"
  },
  "language_info": {
   "codemirror_mode": {
    "name": "ipython",
    "version": 3
   },
   "file_extension": ".py",
   "mimetype": "text/x-python",
   "name": "python",
   "nbconvert_exporter": "python",
   "pygments_lexer": "ipython3",
   "version": "3.9.13"
  }
 },
 "nbformat": 4,
 "nbformat_minor": 5
}
