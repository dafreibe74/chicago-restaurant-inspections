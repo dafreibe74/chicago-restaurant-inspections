{
 "cells": [
  {
   "cell_type": "code",
   "execution_count": 112,
   "id": "a795d4b1-f9d6-4024-8559-3e69bda5d607",
   "metadata": {},
   "outputs": [],
   "source": [
    "# Import required libraries\n",
    "import sqlite3\n",
    "import numpy as np\n",
    "import pandas as pd\n",
    "import hvplot.pandas\n",
    "import matplotlib.pyplot as plt\n",
    "import seaborn as sns\n",
    "from sklearn.linear_model import LinearRegression\n",
    "from sklearn.model_selection import train_test_split\n",
    "import statsmodels.api as sm\n",
    "from sklearn.preprocessing import StandardScaler\n",
    "from sklearn.metrics import mean_squared_error, r2_score"
   ]
  },
  {
   "cell_type": "markdown",
   "id": "85fc8c76-fff6-490a-a223-7e857eda7f78",
   "metadata": {},
   "source": [
    "## Data Loading"
   ]
  },
  {
   "cell_type": "code",
   "execution_count": 113,
   "id": "bf83f4ee-c399-4da6-9ac9-105ca7ec9957",
   "metadata": {},
   "outputs": [
    {
     "data": {
      "text/html": [
       "<div>\n",
       "<style scoped>\n",
       "    .dataframe tbody tr th:only-of-type {\n",
       "        vertical-align: middle;\n",
       "    }\n",
       "\n",
       "    .dataframe tbody tr th {\n",
       "        vertical-align: top;\n",
       "    }\n",
       "\n",
       "    .dataframe thead th {\n",
       "        text-align: right;\n",
       "    }\n",
       "</style>\n",
       "<table border=\"1\" class=\"dataframe\">\n",
       "  <thead>\n",
       "    <tr style=\"text-align: right;\">\n",
       "      <th></th>\n",
       "      <th>Name</th>\n",
       "      <th>License_ID</th>\n",
       "      <th>Risk</th>\n",
       "      <th>zip</th>\n",
       "      <th>Inspection_Date</th>\n",
       "      <th>Results</th>\n",
       "      <th>Violations</th>\n",
       "    </tr>\n",
       "  </thead>\n",
       "  <tbody>\n",
       "    <tr>\n",
       "      <th>0</th>\n",
       "      <td>CHIPOTLE MEXICAN GRILL</td>\n",
       "      <td>2670642.0</td>\n",
       "      <td>Risk 1 (High)</td>\n",
       "      <td>60613.0</td>\n",
       "      <td>2019</td>\n",
       "      <td>Pass w/ Conditions</td>\n",
       "      <td>3. MANAGEMENT, FOOD EMPLOYEE AND CONDITIONAL E...</td>\n",
       "    </tr>\n",
       "    <tr>\n",
       "      <th>1</th>\n",
       "      <td>SUBWAY</td>\n",
       "      <td>2703766.0</td>\n",
       "      <td>Risk 1 (High)</td>\n",
       "      <td>60661.0</td>\n",
       "      <td>2019</td>\n",
       "      <td>Pass w/ Conditions</td>\n",
       "      <td>3. MANAGEMENT, FOOD EMPLOYEE AND CONDITIONAL E...</td>\n",
       "    </tr>\n",
       "    <tr>\n",
       "      <th>2</th>\n",
       "      <td>SWEET SHOT COOKIES</td>\n",
       "      <td>2688916.0</td>\n",
       "      <td>Risk 2 (Medium)</td>\n",
       "      <td>60647.0</td>\n",
       "      <td>2019</td>\n",
       "      <td>Pass</td>\n",
       "      <td>49. NON-FOOD/FOOD CONTACT SURFACES CLEAN - Com...</td>\n",
       "    </tr>\n",
       "    <tr>\n",
       "      <th>3</th>\n",
       "      <td>CHIPOTLE MEXICAN GRILL</td>\n",
       "      <td>2670642.0</td>\n",
       "      <td>Risk 1 (High)</td>\n",
       "      <td>60613.0</td>\n",
       "      <td>2019</td>\n",
       "      <td>Fail</td>\n",
       "      <td>3. MANAGEMENT, FOOD EMPLOYEE AND CONDITIONAL E...</td>\n",
       "    </tr>\n",
       "    <tr>\n",
       "      <th>4</th>\n",
       "      <td>SAME SAME</td>\n",
       "      <td>2689715.0</td>\n",
       "      <td>Risk 1 (High)</td>\n",
       "      <td>60618.0</td>\n",
       "      <td>2019</td>\n",
       "      <td>Pass w/ Conditions</td>\n",
       "      <td>3. MANAGEMENT, FOOD EMPLOYEE AND CONDITIONAL E...</td>\n",
       "    </tr>\n",
       "  </tbody>\n",
       "</table>\n",
       "</div>"
      ],
      "text/plain": [
       "                     Name  License_ID             Risk      zip  \\\n",
       "0  CHIPOTLE MEXICAN GRILL   2670642.0    Risk 1 (High)  60613.0   \n",
       "1                  SUBWAY   2703766.0    Risk 1 (High)  60661.0   \n",
       "2      SWEET SHOT COOKIES   2688916.0  Risk 2 (Medium)  60647.0   \n",
       "3  CHIPOTLE MEXICAN GRILL   2670642.0    Risk 1 (High)  60613.0   \n",
       "4               SAME SAME   2689715.0    Risk 1 (High)  60618.0   \n",
       "\n",
       "  Inspection_Date             Results  \\\n",
       "0            2019  Pass w/ Conditions   \n",
       "1            2019  Pass w/ Conditions   \n",
       "2            2019                Pass   \n",
       "3            2019                Fail   \n",
       "4            2019  Pass w/ Conditions   \n",
       "\n",
       "                                          Violations  \n",
       "0  3. MANAGEMENT, FOOD EMPLOYEE AND CONDITIONAL E...  \n",
       "1  3. MANAGEMENT, FOOD EMPLOYEE AND CONDITIONAL E...  \n",
       "2  49. NON-FOOD/FOOD CONTACT SURFACES CLEAN - Com...  \n",
       "3  3. MANAGEMENT, FOOD EMPLOYEE AND CONDITIONAL E...  \n",
       "4  3. MANAGEMENT, FOOD EMPLOYEE AND CONDITIONAL E...  "
      ]
     },
     "execution_count": 113,
     "metadata": {},
     "output_type": "execute_result"
    }
   ],
   "source": [
    "# Read data\n",
    "conn = sqlite3.connect('restaurant.sqlite')\n",
    "\n",
    "# Use a query to load the entire table \n",
    "restaurant_df = pd.read_sql(\"SELECT * FROM restaurants\", conn)\n",
    "\n",
    "# Display sample data\n",
    "restaurant_df.head()"
   ]
  },
  {
   "cell_type": "code",
   "execution_count": 114,
   "id": "911d9ef6-4204-4447-a63e-d1dd35f55beb",
   "metadata": {},
   "outputs": [
    {
     "data": {
      "image/png": "[encoded data removed]",
      "text/plain": [
       "<Figure size 679x500 with 1 Axes>"
      ]
     },
     "metadata": {},
     "output_type": "display_data"
    }
   ],
   "source": [
    "# Categorical variable plot with seaborn catplot\n",
    "sns.catplot(x=\"Risk\", hue=\"Results\", kind=\"count\", data=restaurant_df)\n",
    "plt.show()"
   ]
  },
  {
   "cell_type": "code",
   "execution_count": 115,
   "id": "f2b21f38-f470-498f-a2f5-0a9a029cb100",
   "metadata": {},
   "outputs": [
    {
     "data": {
      "text/html": [
       "<div>\n",
       "<style scoped>\n",
       "    .dataframe tbody tr th:only-of-type {\n",
       "        vertical-align: middle;\n",
       "    }\n",
       "\n",
       "    .dataframe tbody tr th {\n",
       "        vertical-align: top;\n",
       "    }\n",
       "\n",
       "    .dataframe thead th {\n",
       "        text-align: right;\n",
       "    }\n",
       "</style>\n",
       "<table border=\"1\" class=\"dataframe\">\n",
       "  <thead>\n",
       "    <tr style=\"text-align: right;\">\n",
       "      <th></th>\n",
       "      <th>Name</th>\n",
       "      <th>License_ID</th>\n",
       "      <th>Risk</th>\n",
       "      <th>zip</th>\n",
       "      <th>Inspection_Date</th>\n",
       "      <th>Results</th>\n",
       "      <th>Violations</th>\n",
       "      <th>Risk_numeric</th>\n",
       "      <th>Results_Fail</th>\n",
       "      <th>Results_No Entry</th>\n",
       "      <th>Results_Not Ready</th>\n",
       "      <th>Results_Pass</th>\n",
       "      <th>Results_Pass w/ Conditions</th>\n",
       "    </tr>\n",
       "  </thead>\n",
       "  <tbody>\n",
       "    <tr>\n",
       "      <th>0</th>\n",
       "      <td>CHIPOTLE MEXICAN GRILL</td>\n",
       "      <td>2670642.0</td>\n",
       "      <td>Risk 1 (High)</td>\n",
       "      <td>60613.0</td>\n",
       "      <td>2019</td>\n",
       "      <td>Pass w/ Conditions</td>\n",
       "      <td>3. MANAGEMENT, FOOD EMPLOYEE AND CONDITIONAL E...</td>\n",
       "      <td>3</td>\n",
       "      <td>0</td>\n",
       "      <td>0</td>\n",
       "      <td>0</td>\n",
       "      <td>0</td>\n",
       "      <td>1</td>\n",
       "    </tr>\n",
       "    <tr>\n",
       "      <th>1</th>\n",
       "      <td>SUBWAY</td>\n",
       "      <td>2703766.0</td>\n",
       "      <td>Risk 1 (High)</td>\n",
       "      <td>60661.0</td>\n",
       "      <td>2019</td>\n",
       "      <td>Pass w/ Conditions</td>\n",
       "      <td>3. MANAGEMENT, FOOD EMPLOYEE AND CONDITIONAL E...</td>\n",
       "      <td>3</td>\n",
       "      <td>0</td>\n",
       "      <td>0</td>\n",
       "      <td>0</td>\n",
       "      <td>0</td>\n",
       "      <td>1</td>\n",
       "    </tr>\n",
       "    <tr>\n",
       "      <th>2</th>\n",
       "      <td>SWEET SHOT COOKIES</td>\n",
       "      <td>2688916.0</td>\n",
       "      <td>Risk 2 (Medium)</td>\n",
       "      <td>60647.0</td>\n",
       "      <td>2019</td>\n",
       "      <td>Pass</td>\n",
       "      <td>49. NON-FOOD/FOOD CONTACT SURFACES CLEAN - Com...</td>\n",
       "      <td>2</td>\n",
       "      <td>0</td>\n",
       "      <td>0</td>\n",
       "      <td>0</td>\n",
       "      <td>1</td>\n",
       "      <td>0</td>\n",
       "    </tr>\n",
       "    <tr>\n",
       "      <th>3</th>\n",
       "      <td>CHIPOTLE MEXICAN GRILL</td>\n",
       "      <td>2670642.0</td>\n",
       "      <td>Risk 1 (High)</td>\n",
       "      <td>60613.0</td>\n",
       "      <td>2019</td>\n",
       "      <td>Fail</td>\n",
       "      <td>3. MANAGEMENT, FOOD EMPLOYEE AND CONDITIONAL E...</td>\n",
       "      <td>3</td>\n",
       "      <td>1</td>\n",
       "      <td>0</td>\n",
       "      <td>0</td>\n",
       "      <td>0</td>\n",
       "      <td>0</td>\n",
       "    </tr>\n",
       "    <tr>\n",
       "      <th>4</th>\n",
       "      <td>SAME SAME</td>\n",
       "      <td>2689715.0</td>\n",
       "      <td>Risk 1 (High)</td>\n",
       "      <td>60618.0</td>\n",
       "      <td>2019</td>\n",
       "      <td>Pass w/ Conditions</td>\n",
       "      <td>3. MANAGEMENT, FOOD EMPLOYEE AND CONDITIONAL E...</td>\n",
       "      <td>3</td>\n",
       "      <td>0</td>\n",
       "      <td>0</td>\n",
       "      <td>0</td>\n",
       "      <td>0</td>\n",
       "      <td>1</td>\n",
       "    </tr>\n",
       "  </tbody>\n",
       "</table>\n",
       "</div>"
      ],
      "text/plain": [
       "                     Name  License_ID             Risk      zip  \\\n",
       "0  CHIPOTLE MEXICAN GRILL   2670642.0    Risk 1 (High)  60613.0   \n",
       "1                  SUBWAY   2703766.0    Risk 1 (High)  60661.0   \n",
       "2      SWEET SHOT COOKIES   2688916.0  Risk 2 (Medium)  60647.0   \n",
       "3  CHIPOTLE MEXICAN GRILL   2670642.0    Risk 1 (High)  60613.0   \n",
       "4               SAME SAME   2689715.0    Risk 1 (High)  60618.0   \n",
       "\n",
       "  Inspection_Date             Results  \\\n",
       "0            2019  Pass w/ Conditions   \n",
       "1            2019  Pass w/ Conditions   \n",
       "2            2019                Pass   \n",
       "3            2019                Fail   \n",
       "4            2019  Pass w/ Conditions   \n",
       "\n",
       "                                          Violations  Risk_numeric  \\\n",
       "0  3. MANAGEMENT, FOOD EMPLOYEE AND CONDITIONAL E...             3   \n",
       "1  3. MANAGEMENT, FOOD EMPLOYEE AND CONDITIONAL E...             3   \n",
       "2  49. NON-FOOD/FOOD CONTACT SURFACES CLEAN - Com...             2   \n",
       "3  3. MANAGEMENT, FOOD EMPLOYEE AND CONDITIONAL E...             3   \n",
       "4  3. MANAGEMENT, FOOD EMPLOYEE AND CONDITIONAL E...             3   \n",
       "\n",
       "   Results_Fail  Results_No Entry  Results_Not Ready  Results_Pass  \\\n",
       "0             0                 0                  0             0   \n",
       "1             0                 0                  0             0   \n",
       "2             0                 0                  0             1   \n",
       "3             1                 0                  0             0   \n",
       "4             0                 0                  0             0   \n",
       "\n",
       "   Results_Pass w/ Conditions  \n",
       "0                           1  \n",
       "1                           1  \n",
       "2                           0  \n",
       "3                           0  \n",
       "4                           1  "
      ]
     },
     "execution_count": 115,
     "metadata": {},
     "output_type": "execute_result"
    }
   ],
   "source": [
    "# Convert Risk into numerical values\n",
    "risk_mapping = {\n",
    "    'Risk 1 (High)': 3,\n",
    "    'Risk 2 (Medium)': 2,\n",
    "    'Risk 3 (Low)': 1\n",
    "}\n",
    "restaurant_df['Risk_numeric'] = restaurant_df['Risk'].map(risk_mapping)\n",
    "\n",
    "# Convert Results into dummy variables\n",
    "results_dummies = pd.get_dummies(restaurant_df['Results'], prefix='Results')\n",
    "results_dummies = results_dummies * 1  # Convert True/False to 1/0 if needed\n",
    "restaurant_df = pd.concat([restaurant_df, results_dummies], axis=1)\n",
    "\n",
    "# Drop boolean columns\n",
    "for col in restaurant_df.columns:\n",
    "    if restaurant_df[col].dtype == bool:\n",
    "        restaurant_df.drop(col, axis=1, inplace=True)\n",
    "\n",
    "restaurant_df.head()"
   ]
  },
  {
   "cell_type": "code",
   "execution_count": 116,
   "id": "49f6ca90-89b3-4b57-9dc9-5c5cb812e3cf",
   "metadata": {},
   "outputs": [
    {
     "data": {
      "text/plain": [
       "array([[2019],\n",
       "       [2019],\n",
       "       [2019],\n",
       "       [2019],\n",
       "       [2019]])"
      ]
     },
     "execution_count": 116,
     "metadata": {},
     "output_type": "execute_result"
    }
   ],
   "source": [
    "# Convert date dtype to int\n",
    "restaurant_df['Inspection_Date'] = restaurant_df['Inspection_Date'].astype(int)\n",
    "\n",
    "# Reformat data of the independent variable X as a single-column array\n",
    "X = restaurant_df['Inspection_Date'].values.reshape(-1, 1)\n",
    "\n",
    "# Display sample data\n",
    "X[:5]"
   ]
  },
  {
   "cell_type": "code",
   "execution_count": 117,
   "id": "9874c002-0596-4564-8550-2b60522ad572",
   "metadata": {},
   "outputs": [],
   "source": [
    "# Create an array for the dependent variable y\n",
    "y = restaurant_df[\"Results_Fail\"]"
   ]
  },
  {
   "cell_type": "code",
   "execution_count": 118,
   "id": "d2055fb9-2d35-4adf-ba41-2179a286d14f",
   "metadata": {},
   "outputs": [],
   "source": [
    "# Split the preprocessed data into a training and testing dataset\n",
    "X_train, X_test, y_train, y_test = train_test_split(X, y, random_state=1)"
   ]
  },
  {
   "cell_type": "code",
   "execution_count": 119,
   "id": "f7b3ba52-926e-4387-bdf3-4b0a58032016",
   "metadata": {},
   "outputs": [],
   "source": [
    "# Create a StandardScaler instances\n",
    "scaler = StandardScaler()\n",
    "\n",
    "# Fit the StandardScaler\n",
    "X_scaler = scaler.fit(X_train)\n",
    "\n",
    "# Scale the data\n",
    "X_train_scaled = X_scaler.transform(X_train)\n",
    "X_test_scaled = X_scaler.transform(X_test)"
   ]
  },
  {
   "cell_type": "markdown",
   "id": "bed4e543-313c-40e5-9d47-17a1b968fb52",
   "metadata": {},
   "source": [
    "## Building the Linear Regression Model"
   ]
  },
  {
   "cell_type": "code",
   "execution_count": 120,
   "id": "8755c56e-c9d6-46ce-af34-8c06cdc79031",
   "metadata": {},
   "outputs": [
    {
     "data": {
      "text/plain": [
       "LinearRegression()"
      ]
     },
     "execution_count": 120,
     "metadata": {},
     "output_type": "execute_result"
    }
   ],
   "source": [
    "# Create & fit model\n",
    "model = LinearRegression()\n",
    "model.fit(X_train, y_train)"
   ]
  },
  {
   "cell_type": "code",
   "execution_count": 121,
   "id": "04421edb-76b5-4a82-a0c0-543a142a0e47",
   "metadata": {},
   "outputs": [
    {
     "name": "stdout",
     "output_type": "stream",
     "text": [
      "Model's slope: [-0.05195]\n",
      "Model's y-intercept: 105.0773213446099\n",
      "Model's formula: y = 105.0773213446099 + -0.05194999865764844X\n"
     ]
    }
   ],
   "source": [
    "# Display slope, y-intercept, & best fit line formula\n",
    "print(f\"Model's slope: {model.coef_}\")\n",
    "print(f\"Model's y-intercept: {model.intercept_}\")\n",
    "print(f\"Model's formula: y = {model.intercept_} + {model.coef_[0]}X\")"
   ]
  },
  {
   "cell_type": "code",
   "execution_count": 122,
   "id": "f486479f-0e74-4aa3-b067-1565e9467a80",
   "metadata": {},
   "outputs": [
    {
     "data": {
      "text/plain": [
       "<matplotlib.collections.PathCollection at 0x7fbb04abd160>"
      ]
     },
     "execution_count": 122,
     "metadata": {},
     "output_type": "execute_result"
    }
   ],
   "source": [
    "# Plot the training data (as a scatter plot)\n",
    "plt.scatter(X_train.flatten(), y_train, color='blue', label='Training data')\n"
   ]
  },
  {
   "cell_type": "code",
   "execution_count": 123,
   "id": "bd4a4018-bb74-49dc-99bb-9b2756592395",
   "metadata": {},
   "outputs": [
    {
     "data": {
      "text/plain": [
       "[<matplotlib.lines.Line2D at 0x7fbb04abd880>]"
      ]
     },
     "execution_count": 123,
     "metadata": {},
     "output_type": "execute_result"
    }
   ],
   "source": [
    "# Plot the regression line using the formula for a line (y = mx + b)\n",
    "x_range = np.arange(X.min(), X.max(), 0.1)  # This gives us a range of x values to apply our coefficients to\n",
    "plt.plot(x_range, model.intercept_ + model.coef_[0] * x_range, color='red', label='Linear Regression Line')\n"
   ]
  },
  {
   "cell_type": "code",
   "execution_count": 124,
   "id": "f01e7987-e68e-487c-84b1-a91547bdd27c",
   "metadata": {},
   "outputs": [
    {
     "data": {
      "image/png": "[encoded data removed]",
      "text/plain": [
       "<Figure size 640x480 with 1 Axes>"
      ]
     },
     "metadata": {},
     "output_type": "display_data"
    }
   ],
   "source": [
    "# Customize and show the plot\n",
    "plt.title('Results Fail vs. Inspection Date')\n",
    "plt.xlabel('Inspection Date')\n",
    "plt.ylabel('Results Fail')\n",
    "plt.legend()\n",
    "plt.grid(True)\n",
    "plt.tight_layout()\n",
    "plt.show()"
   ]
  },
  {
   "cell_type": "markdown",
   "id": "9f4ae828-8445-4225-b6dc-9aea7c1e9037",
   "metadata": {},
   "source": [
    "### Model Assessment"
   ]
  },
  {
   "cell_type": "code",
   "execution_count": 126,
   "id": "06913bdd-5979-45b5-adf4-069f33bc0cbc",
   "metadata": {},
   "outputs": [
    {
     "name": "stdout",
     "output_type": "stream",
     "text": [
      "The score is 0.0833102195420854.\n",
      "The r2 is 0.08331054644349511.\n",
      "The mean squared error is 0.22058734249213507.\n",
      "The root mean squared error is 0.46966726785260976.\n",
      "The standard deviation is 0.49054536534665183.\n"
     ]
    }
   ],
   "source": [
    "# Compute the metrics for the linear regression model\n",
    "score = model.score(X, y, sample_weight=None)\n",
    "r2 = r2_score(y, predicted_y_values)\n",
    "mse = mean_squared_error(y, predicted_y_values)\n",
    "rmse = np.sqrt(mse)\n",
    "std = np.std(y)\n",
    "\n",
    "# Print relevant metrics.\n",
    "print(f\"The score is {score}.\")\n",
    "print(f\"The r2 is {r2}.\")\n",
    "print(f\"The mean squared error is {mse}.\")\n",
    "print(f\"The root mean squared error is {rmse}.\")\n",
    "print(f\"The standard deviation is {std}.\")"
   ]
  },
  {
   "cell_type": "code",
   "execution_count": null,
   "id": "ea1ba2dd-9b4f-4794-8ed9-5b4cfc3b4a34",
   "metadata": {},
   "outputs": [],
   "source": []
  },
  {
   "cell_type": "code",
   "execution_count": null,
   "id": "cea78b0c-21f4-40e1-b760-9280fc26a753",
   "metadata": {},
   "outputs": [],
   "source": []
  },
  {
   "cell_type": "code",
   "execution_count": 127,
   "id": "eaeba4e8-d785-4623-8454-0baf22182dab",
   "metadata": {},
   "outputs": [
    {
     "name": "stdout",
     "output_type": "stream",
     "text": [
      "Optimization terminated successfully.\n",
      "         Current function value: 0.631673\n",
      "         Iterations 6\n",
      "                           Logit Regression Results                           \n",
      "==============================================================================\n",
      "Dep. Variable:           Results_Fail   No. Observations:                10168\n",
      "Model:                          Logit   Df Residuals:                    10166\n",
      "Method:                           MLE   Df Model:                            1\n",
      "Date:                Sat, 12 Aug 2023   Pseudo R-squ.:                 0.06321\n",
      "Time:                        17:01:30   Log-Likelihood:                -6422.9\n",
      "converged:                       True   LL-Null:                       -6856.3\n",
      "Covariance Type:            nonrobust   LLR p-value:                1.603e-190\n",
      "===================================================================================\n",
      "                      coef    std err          z      P>|z|      [0.025      0.975]\n",
      "-----------------------------------------------------------------------------------\n",
      "const             455.8144     16.139     28.243      0.000     424.183     487.446\n",
      "Inspection_Date    -0.2264      0.008    -28.266      0.000      -0.242      -0.211\n",
      "===================================================================================\n"
     ]
    }
   ],
   "source": [
    "# Convert the 'Inspection_Date' column to integer\n",
    "restaurant_df['Inspection_Date'] = restaurant_df['Inspection_Date'].astype(int)\n",
    "\n",
    "# Define your independent variable (X) and dependent variable (y)\n",
    "X = restaurant_df['Inspection_Date']\n",
    "y = restaurant_df['Results_Fail']\n",
    "\n",
    "# Add a constant to the independent variable(s)\n",
    "X = sm.add_constant(X)\n",
    "\n",
    "# Fit the model\n",
    "model = sm.Logit(y, X).fit()\n",
    "\n",
    "# Print out the model summary\n",
    "print(model.summary())"
   ]
  },
  {
   "cell_type": "code",
   "execution_count": null,
   "id": "d1057ada-5136-4009-993b-c4cf7523fd28",
   "metadata": {},
   "outputs": [],
   "source": []
  }
 ],
 "metadata": {
  "kernelspec": {
   "display_name": "Python 3 (ipykernel)",
   "language": "python",
   "name": "python3"
  },
  "language_info": {
   "codemirror_mode": {
    "name": "ipython",
    "version": 3
   },
   "file_extension": ".py",
   "mimetype": "text/x-python",
   "name": "python",
   "nbconvert_exporter": "python",
   "pygments_lexer": "ipython3",
   "version": "3.9.13"
  }
 },
 "nbformat": 4,
 "nbformat_minor": 5
}
